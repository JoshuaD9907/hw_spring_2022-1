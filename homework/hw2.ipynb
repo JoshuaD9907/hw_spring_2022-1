{
 "cells": [
  {
   "cell_type": "markdown",
   "metadata": {},
   "source": [
    "---\n",
    "\n",
    "# CSCI 3202, Spring 2022\n",
    "# Homework 2\n",
    "# Due: Friday February 18, 2022 at 6:00 PM\n",
    "\n",
    "<br> \n",
    "\n",
    "### Your name: Joshua Dinerman\n",
    "\n",
    "<br> "
   ]
  },
  {
   "cell_type": "markdown",
   "metadata": {},
   "source": [
    "---\n",
    "This homework requires that you install a few packages and libraries. **Before you start this assigment, read over the entire [github README](https://github.com/coloradointroai/hw_spring_2022).** Set yourself up early so you have the time to work through any bugs. Corrections will be made to the coloradointroai github if needed, pull often and check for updates regularly."
   ]
  },
  {
   "cell_type": "code",
   "execution_count": 1,
   "metadata": {},
   "outputs": [],
   "source": [
    "%load_ext autoreload\n",
    "%autoreload 2\n",
    "\n",
    "import os\n",
    "import sys\n",
    "\n",
    "# Allows this jupyter notebook to access the python code in ../colorado_intro_ai/*\n",
    "module_path = os.path.abspath(os.path.join('..'))\n",
    "if module_path not in sys.path:\n",
    "    sys.path.append(module_path)\n",
    "\n",
    "\n",
    "# You need to complete #3 of the recommended setup before you change code in each class. Look at the README for information.\n",
    "from colorado_intro_ai.hw2.robot import Robot"
   ]
  },
  {
   "cell_type": "markdown",
   "metadata": {},
   "source": [
    "---\n",
    "## Problem 1 - A* Search By Hand Problem"
   ]
  },
  {
   "cell_type": "markdown",
   "metadata": {},
   "source": [
    "Use the graph below to implement A* Search to find the shortest path from node S to node G. Heuristic values are shown in red above each node. Step costs between nodes are shown near each respective edge in black.\n",
    "\n",
    "![](../imgs/graph.png)\n",
    "\n",
    "More specifics: Go through the A* algorithm by hand to determine the path that should be taken from $S$ to $G$. Fill in the table below to show the updated explored set and frontier with each iteration. The first iteration is done for you so that you can see the notation that is expected. If there are any ties, break them in alphabetical order."
   ]
  },
  {
   "cell_type": "markdown",
   "metadata": {},
   "source": [
    "| Explored Nodes | Frontier Nodes/Paths & f values  |\n",
    "| :- | -: |\n",
    "| $ $ | $(S,13)$ |\n",
    "| $S$ | $(A,14), (B,16), (C,17)$ |\n",
    "| $S, A$ | $(B,16), (C,17), (D,16)$ |\n",
    "| $S, A, B$ | $(C,17), (D,16)$ |\n",
    "| $S, A, B, D$ | $(C,17), (E,17)$ |\n",
    "| $S, A, B, D, C$ | $(E,17), (F,22)$ |\n",
    "| $S, A, B, D, C, E$ | $(F,22), (G, 17)$ |\n",
    "| $S, A, B, D, C, E, G$ | $(F,22)$ |\n",
    "| | |"
   ]
  },
  {
   "cell_type": "markdown",
   "metadata": {},
   "source": [
    "---\n",
    "## Problem 2 - A* Search Coding Problem"
   ]
  },
  {
   "cell_type": "markdown",
   "metadata": {},
   "source": [
    "The A* objective function is expressed as $f(n) = g(n) + h(n)$, where $f(n)$ is the estimated cost to get form the start node to the goal node going through node $n$. $g(n)$ is the cost to get from the start to node $n$ and $h(n)$ is the estimated cost to move from node $n$ to the goal node. $h(n)$ is also known as a $\\textit{heuristic}$ function. \n",
    "\n",
    "Familiarize yourself with the classes and documention linked below. You will implement your solutions to this problem inside of the [pathSolver.py](https://github.com/coloradointroai/hw_spring_2022/blob/master/colorado_intro_ai/hw2/pathSolver.py) class file in the cloned repository on your computer. \n",
    "\n",
    "## Links\n",
    "* [Robot class file](https://github.com/coloradointroai/hw_spring_2022/blob/master/colorado_intro_ai/hw2/robot.py)\n",
    "* [Enviornment class file](https://github.com/coloradointroai/hw_spring_2022/blob/master/colorado_intro_ai/hw2/enviornment.py)\n",
    "* [PathSolver class file](https://github.com/coloradointroai/hw_spring_2022/blob/master/colorado_intro_ai/hw2/pathSolver.py)\n",
    "* [Colorado intro ai documentation](https://coloradointroai.github.io)\n",
    "\n",
    "### Usage examples"
   ]
  },
  {
   "cell_type": "code",
   "execution_count": 2,
   "metadata": {},
   "outputs": [
    {
     "name": "stdout",
     "output_type": "stream",
     "text": [
      "calliing BFS\n"
     ]
    },
    {
     "data": {
      "image/png": "[encoded data removed]",
      "text/plain": [
       "<Figure size 432x288 with 1 Axes>"
      ]
     },
     "metadata": {
      "needs_background": "light"
     },
     "output_type": "display_data"
    },
    {
     "name": "stdout",
     "output_type": "stream",
     "text": [
      "calliing BFS\n"
     ]
    },
    {
     "data": {
      "image/png": "[encoded data removed]",
      "text/plain": [
       "<Figure size 432x288 with 1 Axes>"
      ]
     },
     "metadata": {
      "needs_background": "light"
     },
     "output_type": "display_data"
    },
    {
     "name": "stdout",
     "output_type": "stream",
     "text": [
      "calliing BFS\n"
     ]
    },
    {
     "data": {
      "image/png": "[encoded data removed]",
      "text/plain": [
       "<Figure size 432x288 with 1 Axes>"
      ]
     },
     "metadata": {
      "needs_background": "light"
     },
     "output_type": "display_data"
    },
    {
     "name": "stdout",
     "output_type": "stream",
     "text": [
      "calliing BFS\n"
     ]
    },
    {
     "data": {
      "image/png": "[encoded data removed]",
      "text/plain": [
       "<Figure size 432x288 with 1 Axes>"
      ]
     },
     "metadata": {
      "needs_background": "light"
     },
     "output_type": "display_data"
    },
    {
     "name": "stdout",
     "output_type": "stream",
     "text": [
      "calliing BFS\n",
      "Empty path given to show_env_and_path()\n",
      "calliing BFS\n",
      "Empty path given to show_env_and_path()\n",
      "calliing BFS\n"
     ]
    },
    {
     "data": {
      "image/png": "[encoded data removed]",
      "text/plain": [
       "<Figure size 432x288 with 1 Axes>"
      ]
     },
     "metadata": {
      "needs_background": "light"
     },
     "output_type": "display_data"
    },
    {
     "name": "stdout",
     "output_type": "stream",
     "text": [
      "calliing BFS\n",
      "Empty path given to show_env_and_path()\n",
      "calliing BFS\n"
     ]
    },
    {
     "data": {
      "image/png": "[encoded data removed]",
      "text/plain": [
       "<Figure size 432x288 with 1 Axes>"
      ]
     },
     "metadata": {
      "needs_background": "light"
     },
     "output_type": "display_data"
    },
    {
     "name": "stdout",
     "output_type": "stream",
     "text": [
      "calliing BFS\n",
      "Empty path given to show_env_and_path()\n",
      "calliing BFS\n"
     ]
    },
    {
     "data": {
      "image/png": "[encoded data removed]",
      "text/plain": [
       "<Figure size 432x288 with 1 Axes>"
      ]
     },
     "metadata": {
      "needs_background": "light"
     },
     "output_type": "display_data"
    },
    {
     "name": "stdout",
     "output_type": "stream",
     "text": [
      "calliing BFS\n",
      "Empty path given to show_env_and_path()\n",
      "calliing BFS\n",
      "Empty path given to show_env_and_path()\n",
      "calliing BFS\n",
      "Empty path given to show_env_and_path()\n",
      "calliing BFS\n",
      "Empty path given to show_env_and_path()\n",
      "calliing BFS\n",
      "Empty path given to show_env_and_path()\n",
      "calliing BFS\n",
      "Empty path given to show_env_and_path()\n",
      "calliing BFS\n"
     ]
    },
    {
     "data": {
      "image/png": "[encoded data removed]",
      "text/plain": [
       "<Figure size 432x288 with 1 Axes>"
      ]
     },
     "metadata": {
      "needs_background": "light"
     },
     "output_type": "display_data"
    },
    {
     "name": "stdout",
     "output_type": "stream",
     "text": [
      "calliing BFS\n",
      "Empty path given to show_env_and_path()\n",
      "calliing BFS\n",
      "Empty path given to show_env_and_path()\n"
     ]
    }
   ],
   "source": [
    "\n",
    "start = (0, 0)\n",
    "goal = (8, 9)\n",
    "robot = Robot()\n",
    "\n",
    "for i in range(10):\n",
    "    path = robot.path_solver.breadth_first_search((0,7), (7, 1), robot.env.edge_weights_2)\n",
    "    robot.show_env_and_path(path)\n",
    "\n",
    "    robot.refresh_env()\n",
    "\n",
    "    path, cost = robot.path_solver.breadth_first_search(start, goal, robot.env.edge_weights_2, return_cost=True)\n",
    "    robot.show_env_and_path(path)\n",
    "    robot.refresh_env()\n",
    "    #print(cost)\n"
   ]
  },
  {
   "cell_type": "markdown",
   "metadata": {},
   "source": [
    "### PART 2A) \n",
    "Implement the first three functions in [pathSolver.py](https://github.com/coloradointroai/hw_spring_2022/blob/master/colorado_intro_ai/hw2/pathSolver.py), you should copy your code from homework 1 and make the required changes to fit the function declaration. \n",
    "\n",
    "Note that breadth_first_search is already completed for you. So really you just need to implement depth_first_search and uniform_cost_search in pathSolver.py. \n",
    "\n",
    "In the cells below, demonstrate that each of the functions work by invoking each function using the `Robot` class as seen in the example above. For each algorithm, include the following:\n",
    "\n",
    "- I) a visualization of the solved env using `show_env_and_path` and \n",
    "- II) the cost of each path in table (see the sample table below for how to format table rows and columns)\n",
    "\n",
    "\n",
    "| this | is   |\n",
    "|------|------|\n",
    "|   a  | table|\n",
    "\n"
   ]
  },
  {
   "cell_type": "markdown",
   "metadata": {},
   "source": []
  },
  {
   "cell_type": "code",
   "execution_count": 3,
   "metadata": {},
   "outputs": [
    {
     "name": "stdout",
     "output_type": "stream",
     "text": [
      "calliing DFS\n"
     ]
    },
    {
     "data": {
      "image/png": "[encoded data removed]",
      "text/plain": [
       "<Figure size 432x288 with 1 Axes>"
      ]
     },
     "metadata": {
      "needs_background": "light"
     },
     "output_type": "display_data"
    },
    {
     "name": "stdout",
     "output_type": "stream",
     "text": [
      "| Graph Number | cost |\n",
      "|--------------|------|\n",
      "|             0|  519 |\n"
     ]
    }
   ],
   "source": [
    "start = (0, 0)\n",
    "goal = (8, 9)\n",
    "robot = Robot()\n",
    "costList = []\n",
    "\n",
    "for i in range(1):\n",
    "    robot.refresh_env()\n",
    "\n",
    "    path, cost = robot.path_solver.depth_first_search(start, goal, robot.env.edge_weights_2, return_cost=True)\n",
    "    robot.show_env_and_path(path)\n",
    "    costList.append(cost)\n",
    "\n",
    "print('| Graph Number | cost |')\n",
    "for i in range(1):\n",
    "    print('|--------------|------|')\n",
    "    print('|             ' + str(i) + '|  ' + str(costList[i]) + ' |')\n",
    "\n"
   ]
  },
  {
   "cell_type": "code",
   "execution_count": 4,
   "metadata": {},
   "outputs": [
    {
     "name": "stdout",
     "output_type": "stream",
     "text": [
      "calliing UCS\n"
     ]
    },
    {
     "data": {
      "image/png": "[encoded data removed]",
      "text/plain": [
       "<Figure size 432x288 with 1 Axes>"
      ]
     },
     "metadata": {
      "needs_background": "light"
     },
     "output_type": "display_data"
    },
    {
     "name": "stdout",
     "output_type": "stream",
     "text": [
      "| Graph Number | cost |\n",
      "|--------------|------|\n",
      "|             0|  305 |\n"
     ]
    }
   ],
   "source": [
    "start = (0, 0)\n",
    "goal = (8, 9)\n",
    "robot = Robot()\n",
    "costList = []\n",
    "\n",
    "for i in range(1):\n",
    "    robot.refresh_env()\n",
    "\n",
    "    path, cost = robot.path_solver.uniform_cost_search(start, goal, robot.env.edge_weights_2, return_cost=True)\n",
    "    robot.show_env_and_path(path)\n",
    "    costList.append(cost)\n",
    "\n",
    "print('| Graph Number | cost |')\n",
    "for i in range(1):\n",
    "    print('|--------------|------|')\n",
    "    print('|             ' + str(i) + '|  ' + str(costList[i]) + ' |')\n",
    "\n"
   ]
  },
  {
   "cell_type": "markdown",
   "metadata": {},
   "source": [
    "### PART 2B)\n",
    "\n",
    "Implement the function `a_star_euclidian` in [pathSolver.py](https://github.com/coloradointroai/hw_spring_2022/blob/master/colorado_intro_ai/hw2/pathSolver.py). The function should return the f(n), where $f(n) = g(n) + h(n)$. Demonstrate your function works by calling it using the `Robot` class. \n",
    "\n",
    "For full credit include the following:\n",
    "\n",
    "- I) a visualization of the original and solved env using `show_env_and_path` \n",
    "- II) Explain what benefits this algorithm has over bfs, dfs, and ucs.\n",
    "\n",
    "#### Function Details\n",
    "The A* objective function is $f(n) = g(n) + h(n)$. In this implementation $h(n) = \\sqrt{(x_g - x_n)^2 + (y_g - y_n)^2}$. In this equation; $x_g$ and $x_n$ represent the column location of goal and current node, repectively. The variables $y_g$ and $y_n$ are the row values of each node."
   ]
  },
  {
   "cell_type": "markdown",
   "metadata": {},
   "source": [
    "A* will find the optimal path while expanding fewer nodes than BFS, DFS, or UCS. BFS and DFS behave the same no matter what the graph looks like, so they have the potential to expand many extra nodes. UCS will take the next shortest path, but this has no guaruntee of getting an optimal path either. A*, however, with admissible and consistent heuristics, will find the optimal path while expanding the same number of fewer nodes than UCS."
   ]
  },
  {
   "cell_type": "code",
   "execution_count": 5,
   "metadata": {},
   "outputs": [
    {
     "name": "stdout",
     "output_type": "stream",
     "text": [
      "calliing A* Euclidean\n"
     ]
    },
    {
     "data": {
      "image/png": "[encoded data removed]",
      "text/plain": [
       "<Figure size 432x288 with 1 Axes>"
      ]
     },
     "metadata": {
      "needs_background": "light"
     },
     "output_type": "display_data"
    },
    {
     "data": {
      "image/png": "[encoded data removed]",
      "text/plain": [
       "<Figure size 432x288 with 1 Axes>"
      ]
     },
     "metadata": {
      "needs_background": "light"
     },
     "output_type": "display_data"
    },
    {
     "name": "stdout",
     "output_type": "stream",
     "text": [
      "| Graph Number | cost |\n",
      "|--------------|------|\n",
      "|             0|  305 |\n"
     ]
    }
   ],
   "source": [
    "start = (0, 0)\n",
    "goal = (8, 9)\n",
    "robot = Robot()\n",
    "costList = []\n",
    "\n",
    "for i in range(1):\n",
    "    robot.refresh_env()\n",
    "\n",
    "    path, cost = robot.path_solver.a_star_euclidian(start, goal, robot.env.edge_weights_2, return_cost=True)\n",
    "    robot.show_env()\n",
    "    robot.show_env_and_path(path)\n",
    "    costList.append(cost)\n",
    "\n",
    "print('| Graph Number | cost |')\n",
    "for i in range(1):\n",
    "    print('|--------------|------|')\n",
    "    print('|             ' + str(i) + '|  ' + str(int(costList[i])) + ' |')\n",
    "\n"
   ]
  },
  {
   "cell_type": "markdown",
   "metadata": {},
   "source": [
    "### PART 2C)\n",
    "\n",
    "Implement the function `a_star_manhattan` in [pathSolver.py](https://github.com/coloradointroai/hw_spring_2022/blob/master/colorado_intro_ai/hw2/pathSolver.py). Demonstrate your function works by calling it using the `Robot` class. \n",
    "\n",
    "For full credit include the following:\n",
    "\n",
    "- I) A visualization of the original and solved env using `show_env_and_path`, include the path cost.\n",
    "- II) You must create and use a private class function within `a_star_manhattan` that computes the value of $h(x)$. You pick the private function name. \n",
    "- III) Give a short explanation of why you would create a private function within a class in a personal project you are sharing with a friend.\n",
    "\n",
    "#### Function Details\n",
    "The A* objective function is $f(n) = g(n) + h(n)$. In this implementation $h(n) = (x_g - x_n) + (y_g - y_n)$. In this equation; $x_g$ and $x_n$ represent the column location of goal and current node, repectively. The variables $y_g$ and $y_n$ are the row values of each node. The robot _CAN_ still move in all 8 directions."
   ]
  },
  {
   "cell_type": "markdown",
   "metadata": {},
   "source": [
    "It is valuable to create a private heuristic function within the class because if someone wants to run your code with a different heuristic, they can just call another function rather than having to modify your heuristic directly. "
   ]
  },
  {
   "cell_type": "code",
   "execution_count": 6,
   "metadata": {},
   "outputs": [
    {
     "name": "stdout",
     "output_type": "stream",
     "text": [
      "calliing A* Manhattan\n"
     ]
    },
    {
     "data": {
      "image/png": "[encoded data removed]",
      "text/plain": [
       "<Figure size 432x288 with 1 Axes>"
      ]
     },
     "metadata": {
      "needs_background": "light"
     },
     "output_type": "display_data"
    },
    {
     "data": {
      "image/png": "[encoded data removed]",
      "text/plain": [
       "<Figure size 432x288 with 1 Axes>"
      ]
     },
     "metadata": {
      "needs_background": "light"
     },
     "output_type": "display_data"
    },
    {
     "name": "stdout",
     "output_type": "stream",
     "text": [
      "Cost:  305\n",
      "| Graph Number | cost |\n",
      "|--------------|------|\n",
      "|             0|  305 |\n"
     ]
    }
   ],
   "source": [
    "start = (0, 0)\n",
    "goal = (8, 9)\n",
    "robot = Robot()\n",
    "costList = []\n",
    "\n",
    "for i in range(1):\n",
    "    robot.refresh_env()\n",
    "\n",
    "    path, cost = robot.path_solver.a_star_manhattan(start, goal, robot.env.edge_weights_2, return_cost=True)\n",
    "    robot.show_env()\n",
    "    robot.show_env_and_path(path)\n",
    "    costList.append(cost)\n",
    "    print(\"Cost: \", cost)\n",
    "\n",
    "print('| Graph Number | cost |')\n",
    "for i in range(1):\n",
    "    print('|--------------|------|')\n",
    "    print('|             ' + str(i) + '|  ' + str(int(costList[i])) + ' |')\n",
    "\n"
   ]
  },
  {
   "cell_type": "markdown",
   "metadata": {},
   "source": [
    "# Problem 3 - Heuristics\n",
    "\n",
    "- For questions 3A, 3B, 3C, and 3D answer True or False and provide a brief explanation, or a counterexample where applicable.\n",
    "\n",
    "- For question 3E, provide a brief explanation.\n",
    "\n",
    "### Part 3A. \n",
    "Depth-first search always expands at least as many nodes as A* search with an admissible heuristic."
   ]
  },
  {
   "cell_type": "markdown",
   "metadata": {},
   "source": [
    "True. Depth first expands all adjacent nodes even if it never explores them. A* does the same, but if it has an admissible heuristic, it will only expand the nodes adjacent to the optimal route. DFS will expand at minimum all adjacent nodes to the optimal path if it goes directly to the goal, but if does not, it will expand more . Therefore, the best case of DFS expands the same number of nodes as A*, but any other case will expand more."
   ]
  },
  {
   "cell_type": "markdown",
   "metadata": {},
   "source": [
    "### Part 3B. \n",
    "Uniform cost search always expands at least as many nodes as A* search with an admissible heuristic."
   ]
  },
  {
   "cell_type": "markdown",
   "metadata": {},
   "source": [
    "True. A* will expand all nodes adjacent to the optimal path with an admissible heuristic. UCS, however, will either explore nodes not on the optimal path, expanding more nodes, or explore the optimal path on it's first try, expanding the same number as A* . Therefore, UCS expands either the same number or more nodes than A*."
   ]
  },
  {
   "cell_type": "markdown",
   "metadata": {},
   "source": [
    "### Part 3C. \n",
    "In the game of chess, in a single move, a rook can move any number of squares on a chessboard in a straight line, either vertically or horizontally, but cannot jump over other pieces. Manhattan distance is an admissible heuristic for the smallest number of moves required to move the rook from square A to square B."
   ]
  },
  {
   "cell_type": "markdown",
   "metadata": {},
   "source": [
    "True. The manhattan distance will never overestimate the distance the rook will have to travel to get to the goal since the best case is following a manhattan path and any obstacles increase the actual distance travelled, but not the manhattan heuristic."
   ]
  },
  {
   "cell_type": "markdown",
   "metadata": {},
   "source": [
    "### Part 3D.\n",
    "Assume you are given multiple admissible heuristics for a problem and you're unsure about which heuristic is the best. You can use both heuristics by summing them to produce a new heuristic that is also admissible. "
   ]
  },
  {
   "cell_type": "markdown",
   "metadata": {},
   "source": [
    "False. For a heuristic to be admissible, it must not overestimate the distance from a node to the goal. If you sum two admissible heuristics, it may overestimate the distance to the goal, making it inadmissible."
   ]
  },
  {
   "cell_type": "markdown",
   "metadata": {},
   "source": [
    "### Part 3E.\n",
    "\n",
    "Using the graph shown, describe why a heuristic must be admissible and consistent for A* search to find an optimal path. Be specific in your answer. \n",
    "\n",
    "Hint: Consider paths starting at $S$ and ending at $C$.\n",
    "\n",
    "![](../imgs/AStarGraph.png)"
   ]
  },
  {
   "cell_type": "markdown",
   "metadata": {},
   "source": [
    "If the heuristic were not consistent, the algorithm could pick a path that is higher cost, but appears lower. This occurs in the graph where the heuristic of node B is zero, but the cost plus heuristic from B to C is 2, so the algorithm chooses to go to B from S, which in not optimal. This occurs despite the heuristic being admissible. If the heuristic were not admissible, the algorithm could choose a non optimal path because the estimated cost to go down the optimal path would be higher than the actual cost. For example, if the heuristic for node A was 4 and the heuristic for node B was 1, the algorithm would go SBC because the estimated cost from A is too high."
   ]
  },
  {
   "cell_type": "code",
   "execution_count": null,
   "metadata": {},
   "outputs": [],
   "source": []
  }
 ],
 "metadata": {
  "interpreter": {
   "hash": "d44c7fb805afb4b7572cc4b1220803728387a0d6c7bbf5e80f50fd0d71de28ee"
  },
  "kernelspec": {
   "display_name": "Python 3 (ipykernel)",
   "language": "python",
   "name": "python3"
  },
  "language_info": {
   "codemirror_mode": {
    "name": "ipython",
    "version": 3
   },
   "file_extension": ".py",
   "mimetype": "text/x-python",
   "name": "python",
   "nbconvert_exporter": "python",
   "pygments_lexer": "ipython3",
   "version": "3.9.7"
  }
 },
 "nbformat": 4,
 "nbformat_minor": 2
}
