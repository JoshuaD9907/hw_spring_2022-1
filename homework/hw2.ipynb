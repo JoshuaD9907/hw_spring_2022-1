{
 "cells": [
  {
   "cell_type": "markdown",
   "metadata": {},
   "source": [
    "---\n",
    "\n",
    "# CSCI 3202, Fall 2021\n",
    "# Homework 2\n",
    "# Due: Friday October 1, 2021 at 6:00 PM\n",
    "\n",
    "<br> \n",
    "\n",
    "### Your name:\n",
    "\n",
    "<br> "
   ]
  },
  {
   "cell_type": "markdown",
   "metadata": {},
   "source": [
    "---\n",
    "required packages and libraries:"
   ]
  },
  {
   "cell_type": "code",
   "execution_count": 1,
   "metadata": {},
   "outputs": [],
   "source": [
    "import os\n",
    "import sys\n",
    "module_path = os.path.abspath(os.path.join('..'))\n",
    "if module_path not in sys.path:\n",
    "    sys.path.append(module_path)\n",
    "\n",
    "\n",
    "\n",
    "from colorado_intro_ai.hw2.robot import Robot"
   ]
  },
  {
   "cell_type": "markdown",
   "metadata": {},
   "source": [
    "---\n",
    "# A* Search Problem"
   ]
  },
  {
   "cell_type": "markdown",
   "metadata": {},
   "source": [
    "The A* objective function is expressed as $f(n) = g(n) + h(n)$, where $f(n)$ is the estimated cost to get form the start node to the goal node going through node $n$. $g(n)$ is the cost to get from the start to node $n$ and $h(n)$ is the estimated cost to move from node $n$ to the goal node. $h(n)$ is also known as a $\\textit{heuristic}$ function. \n",
    "\n",
    "Familiarize yourself with the classes and documention linked below. You will implement your solutions inside of the [pathSolver.py](../colorado_intro_ai/hw2/pathSolver.py) class file. \n",
    "\n",
    "## Links\n",
    "* [Robot class file](../colorado_intro_ai/hw2/robot.py)\n",
    "* [Enviornment class file](../colorado_intro_ai/hw2/enviornment.py)\n",
    "* [PathSolver class file](../colorado_intro_ai/hw2/pathSolver.py)\n",
    "* [Colorado intro ai documentation](https://coloradointroai.github.io)\n",
    "\n",
    "### Usage examples"
   ]
  },
  {
   "cell_type": "code",
   "execution_count": 2,
   "metadata": {},
   "outputs": [
    {
     "data": {
      "image/png": "[encoded data removed]",
      "text/plain": [
       "<Figure size 432x288 with 1 Axes>"
      ]
     },
     "metadata": {
      "needs_background": "light"
     },
     "output_type": "display_data"
    }
   ],
   "source": [
    "\n",
    "robot = Robot()\n",
    "robot.show_env()\n",
    "#robot.env.edge_weights_1\n",
    "\n",
    "# You need to implement these methods\n",
    "# path1, cost = robot.path_solver.a_star_euclidian()\n",
    "# path2, cost = robot.path_solver.bfs()\n",
    "# robot.state_dict\n",
    "\n",
    "# robot.show_env_and_path(path1)\n"
   ]
  },
  {
   "cell_type": "markdown",
   "metadata": {},
   "source": [
    "## A* Problem 1) \n",
    "Implement the first three functions in [pathSolver.py](../colorado_intro_ai/hw2/pathSolver.py), you should copy your code from homework 1 and make the required changes to fit the function declaration. In the cells below, demonstrate that each of the functions work by invoking each function using the `Robot` class as seen in the example. For each algorthim, include I) a visualization of the solved env using `show_env_and_path` and II) the cost of each path in table\n",
    "\n",
    "| this | is   |\n",
    "|------|------|\n",
    "|   a  | table|\n",
    "\n"
   ]
  },
  {
   "cell_type": "markdown",
   "metadata": {},
   "source": []
  },
  {
   "cell_type": "code",
   "execution_count": null,
   "metadata": {},
   "outputs": [],
   "source": []
  },
  {
   "cell_type": "markdown",
   "metadata": {},
   "source": [
    "## A* Problem 2) \n",
    "Implement the function `a_star_euclidian` in [pathSolver.py](../colorado_intro_ai/hw2/pathSolver.py). Demonstrate your function works by calling it using the `Robot` class. For full credit include I) a visualization of the original and solved env using `show_env_and_path` II) Explain what benifits this algorithm has over bfs, dfs, and ucs.\n",
    "\n",
    "#### Function Details\n",
    "The A* objective function is $f(n) = g(n) + h(n)$. In this implementation $h(n) = \\sqrt{(x_g - x_n)^2 + (y_g - y_n)^2}$. In this equation; $x_g$ and $x_n$ represent the column location of goal and current node, repectively. The variables $y_g$ and $y_n$ are the row values of each node."
   ]
  },
  {
   "cell_type": "markdown",
   "metadata": {},
   "source": []
  },
  {
   "cell_type": "code",
   "execution_count": null,
   "metadata": {},
   "outputs": [],
   "source": []
  },
  {
   "cell_type": "markdown",
   "metadata": {},
   "source": [
    "## A* Problem 3) \n",
    "Implement the function `a_star_manhattan` in [pathSolver.py](../colorado_intro_ai/hw2/pathSolver.py). Demonstrate your function works by calling it using the `Robot` class. For full credit include:\n",
    "\n",
    "1. A visualization of the original and solved env using `show_env_and_path`, include the path cost.\n",
    "1. You must create and use a private class function within `a_star_manhattan` that computes the value of $h(x)$. You pick the private function name. \n",
    "1. Give a short explanation of why you would create a private function within a class in a personal project you are sharing with a friend.\n",
    "\n",
    "#### Function Details\n",
    "The A* objective function is $f(n) = g(n) + h(n)$. In this implementation $h(n) = (x_g - x_n) + (y_g - y_n)$. In this equation; $x_g$ and $x_n$ represent the column location of goal and current node, repectively. The variables $y_g$ and $y_n$ are the row values of each node. The robot _CAN_ still move in all 8 directions."
   ]
  },
  {
   "cell_type": "markdown",
   "metadata": {},
   "source": []
  },
  {
   "cell_type": "code",
   "execution_count": null,
   "metadata": {},
   "outputs": [],
   "source": []
  },
  {
   "cell_type": "markdown",
   "metadata": {},
   "source": [
    "## A* Problem 4) \n",
    "Implement the function `a_star_euclidian_probabilty` in [pathSolver.py](../colorado_intro_ai/hw2/pathSolver.py). Demonstrate your function works by calling it using the `Robot` class. For full credit include:\n",
    "\n",
    "1. A visualization of the original and solved env using `show_env_and_path`, include the path cost.\n",
    "1. You must create and use two private class function within `a_star_euclidian_probabilty` that computes the value of $h(x)$ and $g(n)$. You pick the private function name. \n",
    "1. Give a real world example of the probabilistic edge weights\n",
    "\n",
    "#### Function Details\n",
    "The A* objective function is $f(n) = g(n) + h(n)$. In this implementation $h(n) = \\sqrt{(x_g - x_n)^2 + (y_g - y_n)^2}$. In this equation; $x_g$ and $x_n$ represent the column location of goal and current node, repectively. The variables $y_g$ and $y_n$ are the row values of each node.\n",
    "\n",
    "In this implementation, traversing an edge has two possible costs defined by a discrete probability distribution. The function \n",
    "\n",
    "$$g(n) = \n",
    "\\sum_{w \\in W}^{}\\sum_{x \\in X_w}^{}  xp_{X_w}(x) = \\sum_{w \\in W}^{}E[X_w]$$\n",
    "\n",
    "\n",
    "In the equation above, $x$ is the edge cost and $p_X(x)$ is the probability that x is the edge cost when you actually traverse the edge. $X_w$ is a random variable that draws from the two possible edge weights of a particular edge, represented as $w$. The set $W$ contains all edges to get from the starting node to the particular node $n$.\n",
    "\n",
    "\n",
    "#### Example calculation\n",
    "Imagine the edge cost is the time to drive between two particular locations, dependent of if it's raining. What is the expected cost when we traverse the two edges?\n",
    "\n",
    "\n",
    "\n",
    "##### Edge 1\n",
    "| Is it raining? |  Edge cost  |  P(x)                     |\n",
    "|----------------|-------------|---------------------------|\n",
    "|      NO        |     10      |           0.7             |\n",
    "|      YES       |     50      |           0.3             |\n",
    "\n",
    "The expected value for this edge is:\n",
    "\n",
    "$$\n",
    " E[X_1] = \\sum_{x \\in X_1}^{}  xp_{X_1}(x) = 10 \\times p_{X_1}(\\textrm{no rain}) + 50 \\times p_{X_1}(\\textrm{rain}) = 10 \\times 0.7 + 50 \\times 0.3 = 22\n",
    "$$\n",
    "\n",
    "From this we can see that 22 is the expected value of taking this particular example edge.\n",
    "\n",
    "\n",
    "##### Edge 2\n",
    "| Is it raining? |  Edge cost  |  P(x)                     |\n",
    "|----------------|-------------|---------------------------|\n",
    "|      NO        |     1       |           0.99             |\n",
    "|      YES       |     1000      |           0.01             |\n",
    "\n",
    "\n",
    "$$\n",
    " E[X_2] = \\sum_{x \\in X_2}^{}  xp_{X_2}(x) = 1 \\times p_{X_2}(\\textrm{no rain}) + 1000 \\times p_{X_2}(\\textrm{rain}) = 1 \\times 0.99 + 1000 \\times 0.01 = 10.99\n",
    "$$\n",
    "\n",
    "\n",
    "With these two values we can solve for the total expected cost of taking these two edges:\n",
    "\n",
    "\n",
    "$$\n",
    "    g(n) = \\sum_{w \\in W}^{}E[X_w] = E[X_1] + E[X_2] = 22 + 10.99 = 32.99\n",
    "$$\n",
    "\n",
    "<!-- For help with [Colorado intro ai documentation](https://vfu.bg/en/e-Learning/Math--Bertsekas_Tsitsiklis_Introduction_to_probability.pdf)\n",
    "Ch 2 page 12 for example of expectation in a random variable\n",
    "page 15 coin toss example -->\n"
   ]
  },
  {
   "cell_type": "markdown",
   "metadata": {},
   "source": []
  },
  {
   "cell_type": "code",
   "execution_count": null,
   "metadata": {},
   "outputs": [],
   "source": []
  },
  {
   "cell_type": "markdown",
   "metadata": {},
   "source": [
    "## Hill Climbing and Simulated Annealing\n",
    "A common application for optimization algorithms, such as hill climbing and simulated annealing, is combinatorial problems where finding the optimal solution is computational intractable. In these instances, the objective is to find a good solution rather than the optimal solution. \n"
   ]
  },
  {
   "cell_type": "code",
   "execution_count": 4,
   "metadata": {},
   "outputs": [
    {
     "name": "stdout",
     "output_type": "stream",
     "text": [
      "1771.6405148606816\n",
      "2851.179032747949\n"
     ]
    }
   ],
   "source": [
    "\n",
    "\n",
    "# DO THIS BEFORE YOU START TO MOVE YOUR CODE TO ANY CLASS FILES\n",
    "# In order to automatically load in changes that you made to any \n",
    "# colorado_intro_ai class you need to edit your ipython configuration\n",
    "# file. For Ubuntu 20.04 //TODO: give automatic command here\n",
    "# https://stackoverflow.com/questions/5364050/reloading-submodules-in-ipython\n",
    "\n",
    "robot = Robot()\n",
    "\n",
    "# Example to visualize your connections\n",
    "example_list_of_connections = []\n",
    "for key in robot.state_dict:\n",
    "    example_list_of_connections.append(robot.state_dict[key])\n",
    "\n",
    "# robot.show_city_connections(example_list_of_connections)\n",
    "\n",
    "print(robot.get_dist_mi('texas', 'washington'))\n",
    "print(robot.get_dist_km('texas', 'washington'))\n",
    "\n",
    "# itinerary, miles, list_of_temps, list_of_current_cost = robot.simmulated_annealing()"
   ]
  },
  {
   "cell_type": "code",
   "execution_count": 5,
   "metadata": {},
   "outputs": [],
   "source": [
    "# print(itinerary)\n",
    "# print(miles)\n",
    "# print(example_list_of_connections)\n",
    "\n",
    "# robot.show_city_connections_by_name(itinerary)\n",
    "# Also need to show graph of tempature over time and total distance of loop"
   ]
  },
  {
   "cell_type": "markdown",
   "metadata": {},
   "source": []
  },
  {
   "cell_type": "code",
   "execution_count": null,
   "metadata": {},
   "outputs": [],
   "source": []
  },
  {
   "cell_type": "code",
   "execution_count": null,
   "metadata": {},
   "outputs": [],
   "source": []
  }
 ],
 "metadata": {
  "kernelspec": {
   "display_name": "Python 3 (ipykernel)",
   "language": "python",
   "name": "python3"
  },
  "language_info": {
   "codemirror_mode": {
    "name": "ipython",
    "version": 3
   },
   "file_extension": ".py",
   "mimetype": "text/x-python",
   "name": "python",
   "nbconvert_exporter": "python",
   "pygments_lexer": "ipython3",
   "version": "3.8.10"
  }
 },
 "nbformat": 4,
 "nbformat_minor": 2
}
